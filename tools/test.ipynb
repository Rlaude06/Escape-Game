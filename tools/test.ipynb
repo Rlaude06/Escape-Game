{
 "cells": [
  {
   "cell_type": "code",
   "execution_count": 17,
   "metadata": {},
   "outputs": [],
   "source": [
    "#Import the Tkinter Library\n",
    "from tkinter import *\n",
    "\n",
    "#Create an instance of Tkinter Frame\n",
    "win = Toplevel()\n",
    "\n",
    "#Set the geometry of window\n",
    "win.geometry(\"700x350\")\n",
    "\n",
    "#Add a background color to the Main Window\n",
    "win.config(bg = '#add123')\n",
    "\n",
    "#Create a transparent window\n",
    "win.wm_attributes('-transparentcolor', '#add123')\n",
    "win.mainloop()"
   ]
  },
  {
   "cell_type": "code",
   "execution_count": 9,
   "metadata": {},
   "outputs": [
    {
     "ename": "KeyboardInterrupt",
     "evalue": "",
     "output_type": "error",
     "traceback": [
      "\u001b[1;31m---------------------------------------------------------------------------\u001b[0m",
      "\u001b[1;31mKeyboardInterrupt\u001b[0m                         Traceback (most recent call last)",
      "\u001b[1;32m~\\AppData\\Local\\Temp/ipykernel_20692/3415286680.py\u001b[0m in \u001b[0;36m<module>\u001b[1;34m\u001b[0m\n\u001b[0;32m     41\u001b[0m \u001b[1;33m\u001b[0m\u001b[0m\n\u001b[0;32m     42\u001b[0m \u001b[1;31m# Execute tkinter\u001b[0m\u001b[1;33m\u001b[0m\u001b[1;33m\u001b[0m\u001b[0m\n\u001b[1;32m---> 43\u001b[1;33m \u001b[0mroot\u001b[0m\u001b[1;33m.\u001b[0m\u001b[0mmainloop\u001b[0m\u001b[1;33m(\u001b[0m\u001b[1;33m)\u001b[0m\u001b[1;33m\u001b[0m\u001b[1;33m\u001b[0m\u001b[0m\n\u001b[0m",
      "\u001b[1;32mc:\\Users\\rapha\\AppData\\Local\\Programs\\Python\\Python39\\lib\\tkinter\\__init__.py\u001b[0m in \u001b[0;36mmainloop\u001b[1;34m(self, n)\u001b[0m\n\u001b[0;32m   1427\u001b[0m     \u001b[1;32mdef\u001b[0m \u001b[0mmainloop\u001b[0m\u001b[1;33m(\u001b[0m\u001b[0mself\u001b[0m\u001b[1;33m,\u001b[0m \u001b[0mn\u001b[0m\u001b[1;33m=\u001b[0m\u001b[1;36m0\u001b[0m\u001b[1;33m)\u001b[0m\u001b[1;33m:\u001b[0m\u001b[1;33m\u001b[0m\u001b[1;33m\u001b[0m\u001b[0m\n\u001b[0;32m   1428\u001b[0m         \u001b[1;34m\"\"\"Call the mainloop of Tk.\"\"\"\u001b[0m\u001b[1;33m\u001b[0m\u001b[1;33m\u001b[0m\u001b[0m\n\u001b[1;32m-> 1429\u001b[1;33m         \u001b[0mself\u001b[0m\u001b[1;33m.\u001b[0m\u001b[0mtk\u001b[0m\u001b[1;33m.\u001b[0m\u001b[0mmainloop\u001b[0m\u001b[1;33m(\u001b[0m\u001b[0mn\u001b[0m\u001b[1;33m)\u001b[0m\u001b[1;33m\u001b[0m\u001b[1;33m\u001b[0m\u001b[0m\n\u001b[0m\u001b[0;32m   1430\u001b[0m \u001b[1;33m\u001b[0m\u001b[0m\n\u001b[0;32m   1431\u001b[0m     \u001b[1;32mdef\u001b[0m \u001b[0mquit\u001b[0m\u001b[1;33m(\u001b[0m\u001b[0mself\u001b[0m\u001b[1;33m)\u001b[0m\u001b[1;33m:\u001b[0m\u001b[1;33m\u001b[0m\u001b[1;33m\u001b[0m\u001b[0m\n",
      "\u001b[1;31mKeyboardInterrupt\u001b[0m: "
     ]
    }
   ],
   "source": [
    "from tkinter import *\n",
    "  \n",
    "# Create object \n",
    "root = Toplevel()\n",
    "  \n",
    "# Adjust size \n",
    "root.geometry(\"400x400\")\n",
    "  \n",
    "# Add image file\n",
    "bg = PhotoImage(file = \"../radio-removebg-preview.png\")\n",
    "  \n",
    "# Create Canvas\n",
    "canvas1 = Canvas( root, width = 400,\n",
    "                 height = 400)\n",
    "  \n",
    "canvas1.pack(fill = \"both\", expand = True)\n",
    "  \n",
    "# Display image\n",
    "canvas1.create_image( 0, 0, image = bg, \n",
    "                     anchor = \"nw\")\n",
    "  \n",
    "# Add Text\n",
    "canvas1.create_text( 200, 250, text = \"Welcome\")\n",
    "  \n",
    "# Create Buttons\n",
    "button1 = Button( root, text = \"Exit\")\n",
    "button3 = Button( root, text = \"Start\")\n",
    "button2 = Button( root, text = \"Reset\")\n",
    "  \n",
    "# Display Buttons\n",
    "button1_canvas = canvas1.create_window( 100, 10, \n",
    "                                       anchor = \"nw\",\n",
    "                                       window = button1)\n",
    "  \n",
    "button2_canvas = canvas1.create_window( 100, 40,\n",
    "                                       anchor = \"nw\",\n",
    "                                       window = button2)\n",
    "  \n",
    "button3_canvas = canvas1.create_window( 100, 70, anchor = \"nw\",\n",
    "                                       window = button3)\n",
    "  \n",
    "# Execute tkinter\n",
    "root.mainloop()"
   ]
  },
  {
   "cell_type": "code",
   "execution_count": 15,
   "metadata": {},
   "outputs": [],
   "source": [
    "from tkinter import *\n",
    "from PIL import ImageTk\n",
    "  \n",
    "root = Toplevel()\n",
    "  \n",
    "c = Canvas(root, width=400, height=300)\n",
    "c.pack()\n",
    " \n",
    "img = ImageTk.PhotoImage(file=\"../radio-removebg-preview.png\")\n",
    "c.create_image(0, 0, image=img, anchor=NW)\n",
    "\n",
    "\n",
    "root.config(bg = '#add123')\n",
    "\n",
    "#Create a transparent window\n",
    "root.wm_attributes('-transparentcolor', '#add123')\n",
    "\n",
    "root.mainloop()"
   ]
  }
 ],
 "metadata": {
  "kernelspec": {
   "display_name": "Python 3.9.7 64-bit",
   "language": "python",
   "name": "python3"
  },
  "language_info": {
   "codemirror_mode": {
    "name": "ipython",
    "version": 3
   },
   "file_extension": ".py",
   "mimetype": "text/x-python",
   "name": "python",
   "nbconvert_exporter": "python",
   "pygments_lexer": "ipython3",
   "version": "3.9.7"
  },
  "orig_nbformat": 4,
  "vscode": {
   "interpreter": {
    "hash": "fb2a718108da0e1f4ee35c39867b11529262e9de6d91c06f679543e6e67a6857"
   }
  }
 },
 "nbformat": 4,
 "nbformat_minor": 2
}
